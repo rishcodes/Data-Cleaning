{
 "cells": [
  {
   "cell_type": "markdown",
   "id": "meaning-boundary",
   "metadata": {
    "papermill": {
     "duration": 0.015859,
     "end_time": "2021-06-09T08:47:56.421971",
     "exception": false,
     "start_time": "2021-06-09T08:47:56.406112",
     "status": "completed"
    },
    "tags": []
   },
   "source": [
    "**This notebook is an exercise in the [Data Cleaning](https://www.kaggle.com/learn/data-cleaning) course.  You can reference the tutorial at [this link](https://www.kaggle.com/alexisbcook/character-encodings).**\n",
    "\n",
    "---\n"
   ]
  },
  {
   "cell_type": "markdown",
   "id": "interim-annex",
   "metadata": {
    "papermill": {
     "duration": 0.014366,
     "end_time": "2021-06-09T08:47:56.450596",
     "exception": false,
     "start_time": "2021-06-09T08:47:56.436230",
     "status": "completed"
    },
    "tags": []
   },
   "source": [
    "In this exercise, you'll apply what you learned in the **Character encodings** tutorial.\n",
    "\n",
    "# Setup\n",
    "\n",
    "The questions below will give you feedback on your work. Run the following cell to set up the feedback system."
   ]
  },
  {
   "cell_type": "code",
   "execution_count": 1,
   "id": "distinguished-vertex",
   "metadata": {
    "execution": {
     "iopub.execute_input": "2021-06-09T08:47:56.486701Z",
     "iopub.status.busy": "2021-06-09T08:47:56.486046Z",
     "iopub.status.idle": "2021-06-09T08:47:56.587914Z",
     "shell.execute_reply": "2021-06-09T08:47:56.587230Z",
     "shell.execute_reply.started": "2021-06-09T08:36:30.150602Z"
    },
    "papermill": {
     "duration": 0.123344,
     "end_time": "2021-06-09T08:47:56.588107",
     "exception": false,
     "start_time": "2021-06-09T08:47:56.464763",
     "status": "completed"
    },
    "tags": []
   },
   "outputs": [
    {
     "name": "stdout",
     "output_type": "stream",
     "text": [
      "Setup Complete\n"
     ]
    }
   ],
   "source": [
    "from learntools.core import binder\n",
    "binder.bind(globals())\n",
    "from learntools.data_cleaning.ex4 import *\n",
    "print(\"Setup Complete\")"
   ]
  },
  {
   "cell_type": "markdown",
   "id": "junior-parks",
   "metadata": {
    "papermill": {
     "duration": 0.014684,
     "end_time": "2021-06-09T08:47:56.617593",
     "exception": false,
     "start_time": "2021-06-09T08:47:56.602909",
     "status": "completed"
    },
    "tags": []
   },
   "source": [
    "# Get our environment set up\n",
    "\n",
    "The first thing we'll need to do is load in the libraries we'll be using."
   ]
  },
  {
   "cell_type": "code",
   "execution_count": 2,
   "id": "particular-textbook",
   "metadata": {
    "execution": {
     "iopub.execute_input": "2021-06-09T08:47:56.651950Z",
     "iopub.status.busy": "2021-06-09T08:47:56.651194Z",
     "iopub.status.idle": "2021-06-09T08:47:56.654373Z",
     "shell.execute_reply": "2021-06-09T08:47:56.653691Z",
     "shell.execute_reply.started": "2021-06-09T08:36:34.439635Z"
    },
    "papermill": {
     "duration": 0.022872,
     "end_time": "2021-06-09T08:47:56.654515",
     "exception": false,
     "start_time": "2021-06-09T08:47:56.631643",
     "status": "completed"
    },
    "tags": []
   },
   "outputs": [],
   "source": [
    "# modules we'll use\n",
    "import pandas as pd\n",
    "import numpy as np\n",
    "\n",
    "# helpful character encoding module\n",
    "import chardet\n",
    "\n",
    "# set seed for reproducibility\n",
    "np.random.seed(0)"
   ]
  },
  {
   "cell_type": "markdown",
   "id": "forbidden-crack",
   "metadata": {
    "papermill": {
     "duration": 0.013821,
     "end_time": "2021-06-09T08:47:56.682194",
     "exception": false,
     "start_time": "2021-06-09T08:47:56.668373",
     "status": "completed"
    },
    "tags": []
   },
   "source": [
    "# 1) What are encodings?\n",
    "\n",
    "You're working with a dataset composed of bytes.  Run the code cell below to print a sample entry."
   ]
  },
  {
   "cell_type": "code",
   "execution_count": 3,
   "id": "bulgarian-repeat",
   "metadata": {
    "execution": {
     "iopub.execute_input": "2021-06-09T08:47:56.719261Z",
     "iopub.status.busy": "2021-06-09T08:47:56.718225Z",
     "iopub.status.idle": "2021-06-09T08:47:56.722276Z",
     "shell.execute_reply": "2021-06-09T08:47:56.722781Z",
     "shell.execute_reply.started": "2021-06-09T08:37:01.353543Z"
    },
    "papermill": {
     "duration": 0.024505,
     "end_time": "2021-06-09T08:47:56.722970",
     "exception": false,
     "start_time": "2021-06-09T08:47:56.698465",
     "status": "completed"
    },
    "tags": []
   },
   "outputs": [
    {
     "name": "stdout",
     "output_type": "stream",
     "text": [
      "b'\\xa7A\\xa6n'\n",
      "data type: <class 'bytes'>\n"
     ]
    }
   ],
   "source": [
    "sample_entry = b'\\xa7A\\xa6n'\n",
    "print(sample_entry)\n",
    "print('data type:', type(sample_entry))"
   ]
  },
  {
   "cell_type": "markdown",
   "id": "recognized-spokesman",
   "metadata": {
    "papermill": {
     "duration": 0.013989,
     "end_time": "2021-06-09T08:47:56.751285",
     "exception": false,
     "start_time": "2021-06-09T08:47:56.737296",
     "status": "completed"
    },
    "tags": []
   },
   "source": [
    "You notice that it doesn't use the standard UTF-8 encoding. \n",
    "\n",
    "Use the next code cell to create a variable `new_entry` that changes the encoding from `\"big5-tw\"` to `\"utf-8\"`.  `new_entry` should have the bytes datatype."
   ]
  },
  {
   "cell_type": "code",
   "execution_count": 4,
   "id": "small-hamilton",
   "metadata": {
    "execution": {
     "iopub.execute_input": "2021-06-09T08:47:56.790701Z",
     "iopub.status.busy": "2021-06-09T08:47:56.790059Z",
     "iopub.status.idle": "2021-06-09T08:47:56.803815Z",
     "shell.execute_reply": "2021-06-09T08:47:56.803311Z",
     "shell.execute_reply.started": "2021-06-09T08:41:56.772470Z"
    },
    "papermill": {
     "duration": 0.038559,
     "end_time": "2021-06-09T08:47:56.803998",
     "exception": false,
     "start_time": "2021-06-09T08:47:56.765439",
     "status": "completed"
    },
    "tags": []
   },
   "outputs": [
    {
     "data": {
      "application/javascript": [
       "parent.postMessage({\"jupyterEvent\": \"custom.exercise_interaction\", \"data\": {\"outcomeType\": 1, \"valueTowardsCompletion\": 0.3333333333333333, \"interactionType\": 1, \"questionType\": 1, \"questionId\": \"1_EncodingsIntro\", \"learnToolsVersion\": \"0.3.4\", \"failureMessage\": \"\", \"exceptionClass\": \"\", \"trace\": \"\"}}, \"*\")"
      ],
      "text/plain": [
       "<IPython.core.display.Javascript object>"
      ]
     },
     "metadata": {},
     "output_type": "display_data"
    },
    {
     "data": {
      "text/markdown": [
       "<span style=\"color:#33cc33\">Correct</span>"
      ],
      "text/plain": [
       "Correct"
      ]
     },
     "metadata": {},
     "output_type": "display_data"
    }
   ],
   "source": [
    "before = sample_entry.decode(\"big5-tw\")\n",
    "new_entry=before.encode(\"utf-8\",errors=\"replace\")\n",
    "# Check your answer\n",
    "q1.check()"
   ]
  },
  {
   "cell_type": "code",
   "execution_count": 5,
   "id": "proprietary-somerset",
   "metadata": {
    "execution": {
     "iopub.execute_input": "2021-06-09T08:47:56.851241Z",
     "iopub.status.busy": "2021-06-09T08:47:56.850507Z",
     "iopub.status.idle": "2021-06-09T08:47:56.853393Z",
     "shell.execute_reply": "2021-06-09T08:47:56.854041Z",
     "shell.execute_reply.started": "2021-06-09T08:41:32.192505Z"
    },
    "papermill": {
     "duration": 0.029097,
     "end_time": "2021-06-09T08:47:56.854220",
     "exception": false,
     "start_time": "2021-06-09T08:47:56.825123",
     "status": "completed"
    },
    "tags": []
   },
   "outputs": [],
   "source": [
    "# Lines below will give you a hint or solution code\n",
    "#q1.hint()\n",
    "#q1.solution()"
   ]
  },
  {
   "cell_type": "markdown",
   "id": "unlike-humor",
   "metadata": {
    "papermill": {
     "duration": 0.018225,
     "end_time": "2021-06-09T08:47:56.888307",
     "exception": false,
     "start_time": "2021-06-09T08:47:56.870082",
     "status": "completed"
    },
    "tags": []
   },
   "source": [
    "# 2) Reading in files with encoding problems\n",
    "\n",
    "Use the code cell below to read in this file at path `\"../input/fatal-police-shootings-in-the-us/PoliceKillingsUS.csv\"`.  \n",
    "\n",
    "Figure out what the correct encoding should be and read in the file to a DataFrame `police_killings`."
   ]
  },
  {
   "cell_type": "code",
   "execution_count": 6,
   "id": "eligible-physics",
   "metadata": {
    "execution": {
     "iopub.execute_input": "2021-06-09T08:47:56.933643Z",
     "iopub.status.busy": "2021-06-09T08:47:56.932723Z",
     "iopub.status.idle": "2021-06-09T08:47:56.961392Z",
     "shell.execute_reply": "2021-06-09T08:47:56.962280Z",
     "shell.execute_reply.started": "2021-06-09T08:45:14.514101Z"
    },
    "papermill": {
     "duration": 0.058543,
     "end_time": "2021-06-09T08:47:56.962522",
     "exception": false,
     "start_time": "2021-06-09T08:47:56.903979",
     "status": "completed"
    },
    "tags": []
   },
   "outputs": [
    {
     "data": {
      "application/javascript": [
       "parent.postMessage({\"jupyterEvent\": \"custom.exercise_interaction\", \"data\": {\"outcomeType\": 1, \"valueTowardsCompletion\": 0.3333333333333333, \"interactionType\": 1, \"questionType\": 1, \"questionId\": \"2_ReadIn\", \"learnToolsVersion\": \"0.3.4\", \"failureMessage\": \"\", \"exceptionClass\": \"\", \"trace\": \"\"}}, \"*\")"
      ],
      "text/plain": [
       "<IPython.core.display.Javascript object>"
      ]
     },
     "metadata": {},
     "output_type": "display_data"
    },
    {
     "data": {
      "text/markdown": [
       "<span style=\"color:#33cc33\">Correct</span>"
      ],
      "text/plain": [
       "Correct"
      ]
     },
     "metadata": {},
     "output_type": "display_data"
    }
   ],
   "source": [
    "# TODO: Load in the DataFrame correctly.\n",
    "police_killings = pd.read_csv(\"../input/fatal-police-shootings-in-the-us/PoliceKillingsUS.csv\",encoding=\"Windows-1252\")\n",
    "\n",
    "# Check your answer\n",
    "q2.check()"
   ]
  },
  {
   "cell_type": "markdown",
   "id": "introductory-discipline",
   "metadata": {
    "papermill": {
     "duration": 0.018277,
     "end_time": "2021-06-09T08:47:57.002865",
     "exception": false,
     "start_time": "2021-06-09T08:47:56.984588",
     "status": "completed"
    },
    "tags": []
   },
   "source": [
    "Feel free to use any additional code cells for supplemental work.  To get credit for finishing this question, you'll need to run `q2.check()` and get a result of **Correct**."
   ]
  },
  {
   "cell_type": "code",
   "execution_count": 7,
   "id": "related-venezuela",
   "metadata": {
    "execution": {
     "iopub.execute_input": "2021-06-09T08:47:57.061959Z",
     "iopub.status.busy": "2021-06-09T08:47:57.060856Z",
     "iopub.status.idle": "2021-06-09T08:47:58.611092Z",
     "shell.execute_reply": "2021-06-09T08:47:58.610328Z",
     "shell.execute_reply.started": "2021-06-09T08:44:29.034386Z"
    },
    "papermill": {
     "duration": 1.589728,
     "end_time": "2021-06-09T08:47:58.611302",
     "exception": false,
     "start_time": "2021-06-09T08:47:57.021574",
     "status": "completed"
    },
    "tags": []
   },
   "outputs": [
    {
     "name": "stdout",
     "output_type": "stream",
     "text": [
      "{'encoding': 'Windows-1252', 'confidence': 0.73, 'language': ''}\n"
     ]
    }
   ],
   "source": [
    "# (Optional) Use this code cell for any additional work.\n",
    "with open(\"../input/fatal-police-shootings-in-the-us/PoliceKillingsUS.csv\", 'rb') as rawdata:\n",
    "    result = chardet.detect(rawdata.read(100000))\n",
    "\n",
    "# check what the character encoding might be\n",
    "print(result)"
   ]
  },
  {
   "cell_type": "code",
   "execution_count": 8,
   "id": "textile-produce",
   "metadata": {
    "execution": {
     "iopub.execute_input": "2021-06-09T08:47:58.651645Z",
     "iopub.status.busy": "2021-06-09T08:47:58.650640Z",
     "iopub.status.idle": "2021-06-09T08:47:58.656092Z",
     "shell.execute_reply": "2021-06-09T08:47:58.656526Z",
     "shell.execute_reply.started": "2021-06-09T08:44:10.790363Z"
    },
    "papermill": {
     "duration": 0.027567,
     "end_time": "2021-06-09T08:47:58.656695",
     "exception": false,
     "start_time": "2021-06-09T08:47:58.629128",
     "status": "completed"
    },
    "tags": []
   },
   "outputs": [
    {
     "data": {
      "application/javascript": [
       "parent.postMessage({\"jupyterEvent\": \"custom.exercise_interaction\", \"data\": {\"interactionType\": 2, \"questionType\": 1, \"questionId\": \"2_ReadIn\", \"learnToolsVersion\": \"0.3.4\", \"valueTowardsCompletion\": 0.0, \"failureMessage\": \"\", \"exceptionClass\": \"\", \"trace\": \"\", \"outcomeType\": 4}}, \"*\")"
      ],
      "text/plain": [
       "<IPython.core.display.Javascript object>"
      ]
     },
     "metadata": {},
     "output_type": "display_data"
    },
    {
     "data": {
      "text/markdown": [
       "<span style=\"color:#3366cc\">Hint:</span> If you try to guess the encoding with the first 10,000 bytes of the file, it might give you the wrong answer.  Try using 100,000 or more lines of the file."
      ],
      "text/plain": [
       "Hint: If you try to guess the encoding with the first 10,000 bytes of the file, it might give you the wrong answer.  Try using 100,000 or more lines of the file."
      ]
     },
     "metadata": {},
     "output_type": "display_data"
    }
   ],
   "source": [
    "# Lines below will give you a hint or solution code\n",
    "q2.hint()\n",
    "#q2.solution()"
   ]
  },
  {
   "cell_type": "markdown",
   "id": "charged-struggle",
   "metadata": {
    "papermill": {
     "duration": 0.020652,
     "end_time": "2021-06-09T08:47:58.694774",
     "exception": false,
     "start_time": "2021-06-09T08:47:58.674122",
     "status": "completed"
    },
    "tags": []
   },
   "source": [
    "# 3) Saving your files with UTF-8 encoding\n",
    "\n",
    "Save a version of the police killings dataset to CSV with UTF-8 encoding.  Your answer will be marked correct after saving this file.  \n",
    "\n",
    "Note: When using the `to_csv()` method, supply only the name of the file (e.g., `\"my_file.csv\"`).  This saves the file at the filepath `\"/kaggle/working/my_file.csv\"`."
   ]
  },
  {
   "cell_type": "code",
   "execution_count": 9,
   "id": "little-procedure",
   "metadata": {
    "execution": {
     "iopub.execute_input": "2021-06-09T08:47:58.737784Z",
     "iopub.status.busy": "2021-06-09T08:47:58.736765Z",
     "iopub.status.idle": "2021-06-09T08:47:58.782663Z",
     "shell.execute_reply": "2021-06-09T08:47:58.782142Z",
     "shell.execute_reply.started": "2021-06-09T08:47:19.748775Z"
    },
    "papermill": {
     "duration": 0.068298,
     "end_time": "2021-06-09T08:47:58.782813",
     "exception": false,
     "start_time": "2021-06-09T08:47:58.714515",
     "status": "completed"
    },
    "tags": []
   },
   "outputs": [
    {
     "data": {
      "application/javascript": [
       "parent.postMessage({\"jupyterEvent\": \"custom.exercise_interaction\", \"data\": {\"outcomeType\": 1, \"valueTowardsCompletion\": 0.3333333333333333, \"interactionType\": 1, \"questionType\": 2, \"questionId\": \"3_SaveCSV\", \"learnToolsVersion\": \"0.3.4\", \"failureMessage\": \"\", \"exceptionClass\": \"\", \"trace\": \"\"}}, \"*\")"
      ],
      "text/plain": [
       "<IPython.core.display.Javascript object>"
      ]
     },
     "metadata": {},
     "output_type": "display_data"
    },
    {
     "data": {
      "text/markdown": [
       "<span style=\"color:#33cc33\">Correct</span>"
      ],
      "text/plain": [
       "Correct"
      ]
     },
     "metadata": {},
     "output_type": "display_data"
    }
   ],
   "source": [
    "# TODO: Save the police killings dataset to CSV\n",
    "police_killings.to_csv(\"PoliceKillingsUS.csv\")\n",
    "\n",
    "# Check your answer\n",
    "q3.check()"
   ]
  },
  {
   "cell_type": "code",
   "execution_count": 10,
   "id": "precious-implement",
   "metadata": {
    "execution": {
     "iopub.execute_input": "2021-06-09T08:47:58.826254Z",
     "iopub.status.busy": "2021-06-09T08:47:58.825533Z",
     "iopub.status.idle": "2021-06-09T08:47:58.829420Z",
     "shell.execute_reply": "2021-06-09T08:47:58.828734Z"
    },
    "papermill": {
     "duration": 0.028049,
     "end_time": "2021-06-09T08:47:58.829588",
     "exception": false,
     "start_time": "2021-06-09T08:47:58.801539",
     "status": "completed"
    },
    "tags": []
   },
   "outputs": [],
   "source": [
    "# Lines below will give you a hint or solution code\n",
    "#q3.hint()\n",
    "#q3.solution()"
   ]
  },
  {
   "cell_type": "markdown",
   "id": "casual-equilibrium",
   "metadata": {
    "papermill": {
     "duration": 0.019656,
     "end_time": "2021-06-09T08:47:58.869493",
     "exception": false,
     "start_time": "2021-06-09T08:47:58.849837",
     "status": "completed"
    },
    "tags": []
   },
   "source": [
    "# (Optional) More practice\n",
    "\n",
    "Check out [this dataset of files in different character encodings](https://www.kaggle.com/rtatman/character-encoding-examples). Can you read in all the files with their original encodings and them save them out as UTF-8 files?\n",
    "\n",
    "If you have a file that's in UTF-8 but has just a couple of weird-looking characters in it, you can try out the [ftfy module](https://ftfy.readthedocs.io/en/latest/#) and see if it helps. \n",
    "\n",
    "# Keep going\n",
    "\n",
    "In the final lesson, learn how to [**clean up inconsistent text entries**](https://www.kaggle.com/alexisbcook/inconsistent-data-entry) in your dataset."
   ]
  },
  {
   "cell_type": "markdown",
   "id": "corresponding-healing",
   "metadata": {
    "papermill": {
     "duration": 0.019573,
     "end_time": "2021-06-09T08:47:58.910097",
     "exception": false,
     "start_time": "2021-06-09T08:47:58.890524",
     "status": "completed"
    },
    "tags": []
   },
   "source": [
    "---\n",
    "\n",
    "\n",
    "\n",
    "\n",
    "*Have questions or comments? Visit the [Learn Discussion forum](https://www.kaggle.com/learn-forum/172650) to chat with other Learners.*"
   ]
  }
 ],
 "metadata": {
  "kernelspec": {
   "display_name": "Python 3",
   "language": "python",
   "name": "python3"
  },
  "language_info": {
   "codemirror_mode": {
    "name": "ipython",
    "version": 3
   },
   "file_extension": ".py",
   "mimetype": "text/x-python",
   "name": "python",
   "nbconvert_exporter": "python",
   "pygments_lexer": "ipython3",
   "version": "3.7.9"
  },
  "papermill": {
   "default_parameters": {},
   "duration": 10.950049,
   "end_time": "2021-06-09T08:48:00.516608",
   "environment_variables": {},
   "exception": null,
   "input_path": "__notebook__.ipynb",
   "output_path": "__notebook__.ipynb",
   "parameters": {},
   "start_time": "2021-06-09T08:47:49.566559",
   "version": "2.3.2"
  }
 },
 "nbformat": 4,
 "nbformat_minor": 5
}
